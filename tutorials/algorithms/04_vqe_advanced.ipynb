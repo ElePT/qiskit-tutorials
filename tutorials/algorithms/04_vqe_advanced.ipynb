{
 "cells": [
  {
   "cell_type": "markdown",
   "metadata": {},
   "source": [
    "# Advanced VQE usage\n",
    "\n",
    "In previous tutorials, we have seen how to set up a basic [`VQE`](https://qiskit.org/documentation/stubs/qiskit.algorithms.minimum_eigensolvers.VQE.html) algorithm, how to monitor its convergence through the `callback` option, and how to leverage the [Aer Estimator]() in `VQE` to perform noisy simulations. Now, we will see how to provide more advanced configuration parameters to explore the full range of [VQE](https://qiskit.org/documentation/stubs/qiskit.algorithms.minimum_eigensolvers.VQE.html) capabilities. In particular, this tutorial will cover the use of custom `initial point`s and `gradient`s.\n",
    "\n",
    "It will also cover advanced simulator use such as using Aer with the Matrix Product State method."
   ]
  },
  {
   "cell_type": "code",
   "execution_count": 1,
   "metadata": {},
   "outputs": [],
   "source": [
    "from qiskit import Aer\n",
    "from qiskit.opflow import X, Z, I\n",
    "from qiskit.utils import QuantumInstance, algorithm_globals\n",
    "from qiskit.algorithms import VQE\n",
    "from qiskit.circuit.library import TwoLocal"
   ]
  },
  {
   "cell_type": "markdown",
   "metadata": {},
   "source": [
    "Here, we will use the same operator as in other VQE algorithms tutorials."
   ]
  },
  {
   "cell_type": "code",
   "execution_count": 2,
   "metadata": {},
   "outputs": [],
   "source": [
    "from qiskit.quantum_info import SparsePauliOp\n",
    "\n",
    "H2_op = SparsePauliOp.from_list(\n",
    "    [\n",
    "        (\"II\", -1.052373245772859),\n",
    "        (\"IZ\", 0.39793742484318045),\n",
    "        (\"ZI\", -0.39793742484318045),\n",
    "        (\"ZZ\", -0.01128010425623538),\n",
    "        (\"XX\", 0.18093119978423156),\n",
    "    ]\n",
    ")\n",
    "\n",
    "print(f\"Number of qubits: {H2_op.num_qubits}\")"
   ]
  },
  {
   "cell_type": "markdown",
   "metadata": {},
   "source": [
    "## Initial point\n",
    "\n",
    "The `initial_point` parameter allows the optimization to begin at the given point, defined by a list of parameter values that will configure the ansatz. By default, the initial point is `None`, which means that VQE will choose one based on the initial state of the ansatz. If the ansatz does not provide a preferred state, a random initial point that fits within the ansatz bounds will be chosen. If an initial point is supplied by the user, it will take priority and be used - note though it must match in length to the number of parameters in the ansatz circuit.\n",
    "\n",
    "One might wonder... *Why set yourself an initial point?* Well, this option can come in handy if you have a guess for a reasonable starting point for the problem or perhaps know information from a prior experiment.\n",
    "\n",
    "To demonstrate this feature, let's first simply repeat the first working example from the [algorithms introduction](01_algorithms_introduction.ipynb#A-complete-working-example) tutorial to get a solution's optimal point with the reference Estimator (statevector simulation)."
   ]
  },
  {
   "cell_type": "code",
   "execution_count": 3,
   "metadata": {},
   "outputs": [
    {
     "name": "stdout",
     "output_type": "stream",
     "text": [
      "{   'aux_operator_eigenvalues': None,\n",
      "    'cost_function_evals': 65,\n",
      "    'eigenstate': array([ 9.54859564e-05+0.j, -9.93766269e-01+0.j,  1.11483597e-01+0.j,\n",
      "        1.76972625e-05+0.j]),\n",
      "    'eigenvalue': -1.8572750175780233,\n",
      "    'optimal_parameters': {   ParameterVectorElement(θ[3]): 6.092947703759512,\n",
      "                              ParameterVectorElement(θ[2]): 0.5470754201428533,\n",
      "                              ParameterVectorElement(θ[1]): 4.426962028746158,\n",
      "                              ParameterVectorElement(θ[4]): -2.5983257006415026,\n",
      "                              ParameterVectorElement(θ[5]): 1.5683259438037993,\n",
      "                              ParameterVectorElement(θ[6]): -4.717618238771348,\n",
      "                              ParameterVectorElement(θ[7]): 0.3602072544539939,\n",
      "                              ParameterVectorElement(θ[0]): 4.2965202693703635},\n",
      "    'optimal_point': array([ 4.29652027,  4.42696203,  0.54707542,  6.0929477 , -2.5983257 ,\n",
      "        1.56832594, -4.71761824,  0.36020725]),\n",
      "    'optimal_value': -1.8572750175780233,\n",
      "    'optimizer_evals': 65,\n",
      "    'optimizer_time': 0.08263611793518066}\n"
     ]
    }
   ],
   "source": [
    "from qiskit.primitives import Estimator\n",
    "from qiskit.circuit.library import TwoLocal\n",
    "from qiskit.algorithms.optimizers import SLSQP\n",
    "from qiskit.algorithns.minimum_eigensolvers import VQE\n",
    "\n",
    "ansatz = TwoLocal(rotation_blocks=\"ry\", entanglement_blocks=\"cz\")\n",
    "slsqp = SLSQP(maxiter=1000)\n",
    "\n",
    "estimator = Estimator()\n",
    "vqe = VQE(estimator, ansatz, slsqp)\n",
    "result = vqe.compute_minimum_eigenvalue(operator=H2_op)\n",
    "print(result)\n",
    "optimizer_evals = result.optimizer_evals"
   ]
  },
  {
   "cell_type": "markdown",
   "metadata": {},
   "source": [
    "Now, we can take the `optimal_point` from the above result and use it as the `initial_point` for a follow-up computation.\n",
    "\n",
    "**Note:** `initial_point` is now a keyword-only argument of the `VQE` class (i.e, it must be set following the `keyword=value` syntax)."
   ]
  },
  {
   "cell_type": "code",
   "execution_count": 4,
   "metadata": {},
   "outputs": [
    {
     "name": "stdout",
     "output_type": "stream",
     "text": [
      "{   'aux_operator_eigenvalues': None,\n",
      "    'cost_function_evals': 9,\n",
      "    'eigenstate': array([ 9.54859564e-05+0.j, -9.93766269e-01+0.j,  1.11483597e-01+0.j,\n",
      "        1.76972625e-05+0.j]),\n",
      "    'eigenvalue': -1.8572750175780233,\n",
      "    'optimal_parameters': {   ParameterVectorElement(θ[3]): 6.092947703759512,\n",
      "                              ParameterVectorElement(θ[6]): -4.717618238771348,\n",
      "                              ParameterVectorElement(θ[5]): 1.5683259438037993,\n",
      "                              ParameterVectorElement(θ[1]): 4.426962028746158,\n",
      "                              ParameterVectorElement(θ[2]): 0.5470754201428533,\n",
      "                              ParameterVectorElement(θ[7]): 0.3602072544539939,\n",
      "                              ParameterVectorElement(θ[4]): -2.5983257006415026,\n",
      "                              ParameterVectorElement(θ[0]): 4.2965202693703635},\n",
      "    'optimal_point': array([ 4.29652027,  4.42696203,  0.54707542,  6.0929477 , -2.5983257 ,\n",
      "        1.56832594, -4.71761824,  0.36020725]),\n",
      "    'optimal_value': -1.8572750175780233,\n",
      "    'optimizer_evals': 9,\n",
      "    'optimizer_time': 0.027410030364990234}\n",
      "\n",
      "optimizer_evals is 9 with initial point versus 65 without it.\n"
     ]
    }
   ],
   "source": [
    "initial_pt = result.optimal_point\n",
    "\n",
    "estimator = Estimator()\n",
    "ansatz = TwoLocal(rotation_blocks=\"ry\", entanglement_blocks=\"cz\")\n",
    "slsqp = SLSQP(maxiter=1000)\n",
    "\n",
    "vqe = VQE(estimator, ansatz, slsqp, initial_point=initial_pt)\n",
    "result1 = vqe.compute_minimum_eigenvalue(operator=H2_op)\n",
    "print(result1)\n",
    "\n",
    "optimizer_evals1 = result1.optimizer_evals\n",
    "print()\n",
    "print(\n",
    "    f\"optimizer_evals is {optimizer_evals1} with initial point versus {optimizer_evals} without it.\"\n",
    ")"
   ]
  },
  {
   "cell_type": "markdown",
   "metadata": {},
   "source": [
    "By looking at the `optimizer_time` we can notice how the initial point helped the algorithm reach a solution much faster. `optimizer_evals` shows how the number of evaluations dropped from 65 to 9.\n",
    "\n",
    "This can be particularly useful in cases where we have two closely related problems, and the solution to one problem can be used to guess the other's. A good example might be plotting dissociation profiles in chemistry, where we change the inter-atomic distances of a molecule and compute its minimum eigenvalue for each distance. When the distance changes are small, we expect the solution to still be close to the prior one. Thus, a popular technique is to simply use the optimal point from one solution as the starting point for the next step. There also exist more complex techniques, where we can apply extrapolation to compute an initial position based on prior solution(s) rather than directly use the prior solution."
   ]
  },
  {
   "cell_type": "markdown",
   "metadata": {},
   "source": [
    "## Gradient\n",
    "\n",
    "If the provided optimizer uses a gradient-based technique, the default gradient method will be finite differences. However, the `VQE` class includes an option to pass custom gradients via its `gradient` parameter.\n",
    "\n",
    "As the use of a user supplied `gradient` was shown in the [Monitoring VQE Convergence](02_vqe_convergence.ipynb#Using-Gradient-framework) tutorial I will simply refer you there."
   ]
  },
  {
   "cell_type": "markdown",
   "metadata": {},
   "source": [
    "## Quantum Instance and advanced simulation\n",
    "\n",
    "While you may be familiar with passing a QuantumInstancen created from a `aer_simulator_statevector` a `aer_simulator` or   real device backend, it is possible to use the advanced simulation modes of Aer too when applicable. For instance we can easily use the Aer [Matrix Product State](../simulators/7_matrix_product_state_method.ipynb) method, that has the potential to scale to larger numbers of qubits."
   ]
  },
  {
   "cell_type": "code",
   "execution_count": 10,
   "metadata": {},
   "outputs": [
    {
     "name": "stdout",
     "output_type": "stream",
     "text": [
      "{   'aux_operator_eigenvalues': None,\n",
      "    'cost_function_evals': 65,\n",
      "    'eigenstate': {'01': 0.9921567416492215, '10': 0.125},\n",
      "    'eigenvalue': -1.8572750175807682,\n",
      "    'optimal_parameters': {   ParameterVectorElement(θ[2]): 0.5470752986013949,\n",
      "                              ParameterVectorElement(θ[3]): 6.092947713510392,\n",
      "                              ParameterVectorElement(θ[5]): 1.5683258132970883,\n",
      "                              ParameterVectorElement(θ[7]): 0.3602071559531031,\n",
      "                              ParameterVectorElement(θ[4]): -2.598325866938012,\n",
      "                              ParameterVectorElement(θ[1]): 4.426962159645716,\n",
      "                              ParameterVectorElement(θ[6]): -4.717618259450455,\n",
      "                              ParameterVectorElement(θ[0]): 4.296520300933687},\n",
      "    'optimal_point': array([ 4.2965203 ,  4.42696216,  0.5470753 ,  6.09294771, -2.59832587,\n",
      "        1.56832581, -4.71761826,  0.36020716]),\n",
      "    'optimal_value': -1.8572750175807682,\n",
      "    'optimizer_evals': 65,\n",
      "    'optimizer_time': 0.2019951343536377}\n"
     ]
    }
   ],
   "source": [
    "algorithm_globals.random_seed = seed\n",
    "\n",
    "from qiskit.providers.aer import QasmSimulator\n",
    "\n",
    "quantum_instance = QuantumInstance(\n",
    "    QasmSimulator(method=\"matrix_product_state\"), shots=1\n",
    ")\n",
    "\n",
    "ansatz = TwoLocal(rotation_blocks=\"ry\", entanglement_blocks=\"cz\")\n",
    "slsqp = SLSQP(maxiter=1000)\n",
    "vqe = VQE(ansatz, optimizer=slsqp, quantum_instance=qi, include_custom=True)\n",
    "result = vqe.compute_minimum_eigenvalue(operator=H2_op)\n",
    "print(result)"
   ]
  },
  {
   "cell_type": "code",
   "execution_count": 11,
   "metadata": {},
   "outputs": [
    {
     "data": {
      "text/html": [
       "<h3>Version Information</h3><table><tr><th>Qiskit Software</th><th>Version</th></tr><tr><td>Qiskit</td><td>None</td></tr><tr><td>Terra</td><td>0.18.0.dev0+5920b66</td></tr><tr><td>Aer</td><td>0.9.0</td></tr><tr><td>Ignis</td><td>0.7.0.dev0+8195559</td></tr><tr><td>Aqua</td><td>None</td></tr><tr><td>IBM Q Provider</td><td>None</td></tr><tr><th>System information</th></tr><tr><td>Python</td><td>3.8.8 (default, Apr 13 2021, 12:59:45) \n",
       "[Clang 10.0.0 ]</td></tr><tr><td>OS</td><td>Darwin</td></tr><tr><td>CPUs</td><td>2</td></tr><tr><td>Memory (Gb)</td><td>12.0</td></tr><tr><td colspan='2'>Thu May 27 11:03:27 2021 EDT</td></tr></table>"
      ],
      "text/plain": [
       "<IPython.core.display.HTML object>"
      ]
     },
     "metadata": {},
     "output_type": "display_data"
    },
    {
     "data": {
      "text/html": [
       "<div style='width: 100%; background-color:#d5d9e0;padding-left: 10px; padding-bottom: 10px; padding-right: 10px; padding-top: 5px'><h3>This code is a part of Qiskit</h3><p>&copy; Copyright IBM 2017, 2021.</p><p>This code is licensed under the Apache License, Version 2.0. You may<br>obtain a copy of this license in the LICENSE.txt file in the root directory<br> of this source tree or at http://www.apache.org/licenses/LICENSE-2.0.<p>Any modifications or derivative works of this code must retain this<br>copyright notice, and modified files need to carry a notice indicating<br>that they have been altered from the originals.</p></div>"
      ],
      "text/plain": [
       "<IPython.core.display.HTML object>"
      ]
     },
     "metadata": {},
     "output_type": "display_data"
    }
   ],
   "source": [
    "import qiskit.tools.jupyter\n",
    "\n",
    "%qiskit_version_table\n",
    "%qiskit_copyright"
   ]
  },
  {
   "cell_type": "code",
   "execution_count": null,
   "metadata": {},
   "outputs": [],
   "source": []
  }
 ],
 "metadata": {
  "kernelspec": {
   "display_name": "Python 3",
   "language": "python",
   "name": "python3"
  },
  "language_info": {
   "codemirror_mode": {
    "name": "ipython",
    "version": 3
   },
   "file_extension": ".py",
   "mimetype": "text/x-python",
   "name": "python",
   "nbconvert_exporter": "python",
   "pygments_lexer": "ipython3",
   "version": "3.8.8"
  }
 },
 "nbformat": 4,
 "nbformat_minor": 2
}